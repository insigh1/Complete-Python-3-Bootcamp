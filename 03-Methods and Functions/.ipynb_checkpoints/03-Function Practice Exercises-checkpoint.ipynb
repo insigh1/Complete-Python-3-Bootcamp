{
 "cells": [
  {
   "cell_type": "markdown",
   "metadata": {},
   "source": [
    "___\n",
    "\n",
    "<a href='https://www.udemy.com/user/joseportilla/'><img src='../Pierian_Data_Logo.png'/></a>\n",
    "___\n",
    "<center><em>Content Copyright by Pierian Data</em></center>"
   ]
  },
  {
   "cell_type": "markdown",
   "metadata": {},
   "source": [
    "# Function Practice Exercises\n",
    "\n",
    "Problems are arranged in increasing difficulty:\n",
    "* Warmup - these can be solved using basic comparisons and methods\n",
    "* Level 1 - these may involve if/then conditional statements and simple methods\n",
    "* Level 2 - these may require iterating over sequences, usually with some kind of loop\n",
    "* Challenging - these will take some creativity to solve"
   ]
  },
  {
   "cell_type": "markdown",
   "metadata": {},
   "source": [
    "## WARMUP SECTION:"
   ]
  },
  {
   "cell_type": "markdown",
   "metadata": {},
   "source": [
    "#### LESSER OF TWO EVENS: Write a function that returns the lesser of two given numbers *if* both numbers are even, but returns the greater if one or both numbers are odd\n",
    "    lesser_of_two_evens(2,4) --> 2\n",
    "    lesser_of_two_evens(2,5) --> 5"
   ]
  },
  {
   "cell_type": "code",
   "execution_count": 82,
   "metadata": {
    "execution": {
     "iopub.execute_input": "2021-01-05T16:17:25.529345Z",
     "iopub.status.busy": "2021-01-05T16:17:25.529131Z",
     "iopub.status.idle": "2021-01-05T16:17:25.532690Z",
     "shell.execute_reply": "2021-01-05T16:17:25.532129Z",
     "shell.execute_reply.started": "2021-01-05T16:17:25.529321Z"
    }
   },
   "outputs": [],
   "source": [
    "def lesser_of_two_evens(a,b):\n",
    "    if a % 2 == 1 or b % 2 == 1:\n",
    "        return max(a,b)\n",
    "    else:\n",
    "        return min(a,b)"
   ]
  },
  {
   "cell_type": "code",
   "execution_count": 83,
   "metadata": {
    "execution": {
     "iopub.execute_input": "2021-01-05T16:17:26.038544Z",
     "iopub.status.busy": "2021-01-05T16:17:26.038361Z",
     "iopub.status.idle": "2021-01-05T16:17:26.041768Z",
     "shell.execute_reply": "2021-01-05T16:17:26.041289Z",
     "shell.execute_reply.started": "2021-01-05T16:17:26.038521Z"
    }
   },
   "outputs": [
    {
     "data": {
      "text/plain": [
       "2"
      ]
     },
     "execution_count": 83,
     "metadata": {},
     "output_type": "execute_result"
    }
   ],
   "source": [
    "# Check\n",
    "lesser_of_two_evens(2,4)"
   ]
  },
  {
   "cell_type": "code",
   "execution_count": 84,
   "metadata": {
    "execution": {
     "iopub.execute_input": "2021-01-05T16:17:30.409535Z",
     "iopub.status.busy": "2021-01-05T16:17:30.409315Z",
     "iopub.status.idle": "2021-01-05T16:17:30.412768Z",
     "shell.execute_reply": "2021-01-05T16:17:30.412339Z",
     "shell.execute_reply.started": "2021-01-05T16:17:30.409511Z"
    }
   },
   "outputs": [
    {
     "data": {
      "text/plain": [
       "5"
      ]
     },
     "execution_count": 84,
     "metadata": {},
     "output_type": "execute_result"
    }
   ],
   "source": [
    "# Check\n",
    "lesser_of_two_evens(2,5)"
   ]
  },
  {
   "cell_type": "markdown",
   "metadata": {},
   "source": [
    "\n",
    "#### ANIMAL CRACKERS: Write a function takes a two-word string and returns True if both words begin with same letter\n",
    "    animal_crackers('Levelheaded Llama') --> True\n",
    "    animal_crackers('Crazy Kangaroo') --> False"
   ]
  },
  {
   "cell_type": "code",
   "execution_count": 22,
   "metadata": {
    "execution": {
     "iopub.execute_input": "2021-01-05T15:39:32.788676Z",
     "iopub.status.busy": "2021-01-05T15:39:32.788459Z",
     "iopub.status.idle": "2021-01-05T15:39:32.791804Z",
     "shell.execute_reply": "2021-01-05T15:39:32.791225Z",
     "shell.execute_reply.started": "2021-01-05T15:39:32.788653Z"
    }
   },
   "outputs": [],
   "source": [
    "def animal_crackers(text):\n",
    "    return text.split()[0][0] == text.split()[1][0]"
   ]
  },
  {
   "cell_type": "code",
   "execution_count": 23,
   "metadata": {
    "execution": {
     "iopub.execute_input": "2021-01-05T15:39:33.128011Z",
     "iopub.status.busy": "2021-01-05T15:39:33.127833Z",
     "iopub.status.idle": "2021-01-05T15:39:33.131389Z",
     "shell.execute_reply": "2021-01-05T15:39:33.130827Z",
     "shell.execute_reply.started": "2021-01-05T15:39:33.127989Z"
    }
   },
   "outputs": [
    {
     "data": {
      "text/plain": [
       "True"
      ]
     },
     "execution_count": 23,
     "metadata": {},
     "output_type": "execute_result"
    }
   ],
   "source": [
    "# Check\n",
    "animal_crackers('Levelheaded Llama')"
   ]
  },
  {
   "cell_type": "code",
   "execution_count": 24,
   "metadata": {
    "execution": {
     "iopub.execute_input": "2021-01-05T15:39:33.981266Z",
     "iopub.status.busy": "2021-01-05T15:39:33.981088Z",
     "iopub.status.idle": "2021-01-05T15:39:33.984655Z",
     "shell.execute_reply": "2021-01-05T15:39:33.984120Z",
     "shell.execute_reply.started": "2021-01-05T15:39:33.981245Z"
    }
   },
   "outputs": [
    {
     "data": {
      "text/plain": [
       "False"
      ]
     },
     "execution_count": 24,
     "metadata": {},
     "output_type": "execute_result"
    }
   ],
   "source": [
    "# Check\n",
    "animal_crackers('Crazy Kangaroo')"
   ]
  },
  {
   "cell_type": "markdown",
   "metadata": {},
   "source": [
    "#### MAKES TWENTY: Given two integers, return True if the sum of the integers is 20 *or* if one of the integers is 20. If not, return False\n",
    "\n",
    "    makes_twenty(20,10) --> True\n",
    "    makes_twenty(12,8) --> True\n",
    "    makes_twenty(2,3) --> False"
   ]
  },
  {
   "cell_type": "code",
   "execution_count": 35,
   "metadata": {
    "execution": {
     "iopub.execute_input": "2021-01-05T15:42:17.584554Z",
     "iopub.status.busy": "2021-01-05T15:42:17.584337Z",
     "iopub.status.idle": "2021-01-05T15:42:17.587473Z",
     "shell.execute_reply": "2021-01-05T15:42:17.586970Z",
     "shell.execute_reply.started": "2021-01-05T15:42:17.584531Z"
    }
   },
   "outputs": [],
   "source": [
    "def makes_twenty(n1,n2):\n",
    "    return n1+n2 == 20 or n1 == 20 or n2 == 20 \n"
   ]
  },
  {
   "cell_type": "code",
   "execution_count": 36,
   "metadata": {
    "execution": {
     "iopub.execute_input": "2021-01-05T15:42:18.138812Z",
     "iopub.status.busy": "2021-01-05T15:42:18.138636Z",
     "iopub.status.idle": "2021-01-05T15:42:18.142100Z",
     "shell.execute_reply": "2021-01-05T15:42:18.141613Z",
     "shell.execute_reply.started": "2021-01-05T15:42:18.138791Z"
    }
   },
   "outputs": [
    {
     "data": {
      "text/plain": [
       "True"
      ]
     },
     "execution_count": 36,
     "metadata": {},
     "output_type": "execute_result"
    }
   ],
   "source": [
    "# Check\n",
    "makes_twenty(20,10)"
   ]
  },
  {
   "cell_type": "code",
   "execution_count": 37,
   "metadata": {
    "execution": {
     "iopub.execute_input": "2021-01-05T15:42:18.877523Z",
     "iopub.status.busy": "2021-01-05T15:42:18.877382Z",
     "iopub.status.idle": "2021-01-05T15:42:18.880357Z",
     "shell.execute_reply": "2021-01-05T15:42:18.879932Z",
     "shell.execute_reply.started": "2021-01-05T15:42:18.877506Z"
    }
   },
   "outputs": [
    {
     "data": {
      "text/plain": [
       "False"
      ]
     },
     "execution_count": 37,
     "metadata": {},
     "output_type": "execute_result"
    }
   ],
   "source": [
    "# Check\n",
    "makes_twenty(2,3)"
   ]
  },
  {
   "cell_type": "markdown",
   "metadata": {},
   "source": [
    "# LEVEL 1 PROBLEMS"
   ]
  },
  {
   "cell_type": "markdown",
   "metadata": {},
   "source": [
    "#### OLD MACDONALD: Write a function that capitalizes the first and fourth letters of a name\n",
    "     \n",
    "    old_macdonald('macdonald') --> MacDonald\n",
    "    \n",
    "Note: `'macdonald'.capitalize()` returns `'Macdonald'`"
   ]
  },
  {
   "cell_type": "code",
   "execution_count": 52,
   "metadata": {
    "execution": {
     "iopub.execute_input": "2021-01-05T15:46:32.383304Z",
     "iopub.status.busy": "2021-01-05T15:46:32.383085Z",
     "iopub.status.idle": "2021-01-05T15:46:32.386478Z",
     "shell.execute_reply": "2021-01-05T15:46:32.385893Z",
     "shell.execute_reply.started": "2021-01-05T15:46:32.383280Z"
    }
   },
   "outputs": [],
   "source": [
    "def old_macdonald(name):\n",
    "    first = name[:3].capitalize()\n",
    "    second = name[3:].capitalize()\n",
    "    return first + second"
   ]
  },
  {
   "cell_type": "code",
   "execution_count": 53,
   "metadata": {
    "execution": {
     "iopub.execute_input": "2021-01-05T15:46:32.767865Z",
     "iopub.status.busy": "2021-01-05T15:46:32.767699Z",
     "iopub.status.idle": "2021-01-05T15:46:32.771065Z",
     "shell.execute_reply": "2021-01-05T15:46:32.770572Z",
     "shell.execute_reply.started": "2021-01-05T15:46:32.767844Z"
    }
   },
   "outputs": [
    {
     "data": {
      "text/plain": [
       "'MacDonald'"
      ]
     },
     "execution_count": 53,
     "metadata": {},
     "output_type": "execute_result"
    }
   ],
   "source": [
    "# Check\n",
    "old_macdonald('macdonald')"
   ]
  },
  {
   "cell_type": "markdown",
   "metadata": {},
   "source": [
    "#### MASTER YODA: Given a sentence, return a sentence with the words reversed\n",
    "\n",
    "    master_yoda('I am home') --> 'home am I'\n",
    "    master_yoda('We are ready') --> 'ready are We'\n",
    "    \n",
    "Note: The .join() method may be useful here. The .join() method allows you to join together strings in a list with some connector string. For example, some uses of the .join() method:\n",
    "\n",
    "    >>> \"--\".join(['a','b','c'])\n",
    "    >>> 'a--b--c'\n",
    "\n",
    "This means if you had a list of words you wanted to turn back into a sentence, you could just join them with a single space string:\n",
    "\n",
    "    >>> \" \".join(['Hello','world'])\n",
    "    >>> \"Hello world\""
   ]
  },
  {
   "cell_type": "code",
   "execution_count": null,
   "metadata": {},
   "outputs": [],
   "source": []
  },
  {
   "cell_type": "code",
   "execution_count": 65,
   "metadata": {
    "execution": {
     "iopub.execute_input": "2021-01-05T16:08:08.127344Z",
     "iopub.status.busy": "2021-01-05T16:08:08.127127Z",
     "iopub.status.idle": "2021-01-05T16:08:08.130375Z",
     "shell.execute_reply": "2021-01-05T16:08:08.129814Z",
     "shell.execute_reply.started": "2021-01-05T16:08:08.127319Z"
    }
   },
   "outputs": [],
   "source": [
    "def master_yoda(text):\n",
    "#     words = text.split()\n",
    "    return ' '.join(text.split()[::-1])"
   ]
  },
  {
   "cell_type": "code",
   "execution_count": 66,
   "metadata": {
    "execution": {
     "iopub.execute_input": "2021-01-05T16:08:08.542575Z",
     "iopub.status.busy": "2021-01-05T16:08:08.542395Z",
     "iopub.status.idle": "2021-01-05T16:08:08.545924Z",
     "shell.execute_reply": "2021-01-05T16:08:08.545443Z",
     "shell.execute_reply.started": "2021-01-05T16:08:08.542553Z"
    }
   },
   "outputs": [
    {
     "data": {
      "text/plain": [
       "'home am I'"
      ]
     },
     "execution_count": 66,
     "metadata": {},
     "output_type": "execute_result"
    }
   ],
   "source": [
    "# Check\n",
    "master_yoda('I am home')"
   ]
  },
  {
   "cell_type": "code",
   "execution_count": 67,
   "metadata": {
    "execution": {
     "iopub.execute_input": "2021-01-05T16:08:11.455082Z",
     "iopub.status.busy": "2021-01-05T16:08:11.454848Z",
     "iopub.status.idle": "2021-01-05T16:08:11.458255Z",
     "shell.execute_reply": "2021-01-05T16:08:11.457826Z",
     "shell.execute_reply.started": "2021-01-05T16:08:11.455058Z"
    }
   },
   "outputs": [
    {
     "data": {
      "text/plain": [
       "'ready are We'"
      ]
     },
     "execution_count": 67,
     "metadata": {},
     "output_type": "execute_result"
    }
   ],
   "source": [
    "# Check\n",
    "master_yoda('We are ready')"
   ]
  },
  {
   "cell_type": "markdown",
   "metadata": {},
   "source": [
    "#### ALMOST THERE: Given an integer n, return True if n is within 10 of either 100 or 200\n",
    "\n",
    "    almost_there(90) --> True\n",
    "    almost_there(104) --> True\n",
    "    almost_there(150) --> False\n",
    "    almost_there(209) --> True\n",
    "    \n",
    "NOTE: `abs(num)` returns the absolute value of a number"
   ]
  },
  {
   "cell_type": "code",
   "execution_count": 98,
   "metadata": {
    "execution": {
     "iopub.execute_input": "2021-01-05T17:36:18.952252Z",
     "iopub.status.busy": "2021-01-05T17:36:18.952035Z",
     "iopub.status.idle": "2021-01-05T17:36:18.955205Z",
     "shell.execute_reply": "2021-01-05T17:36:18.954666Z",
     "shell.execute_reply.started": "2021-01-05T17:36:18.952227Z"
    }
   },
   "outputs": [],
   "source": [
    "def almost_there(n):\n",
    "    return abs(100-n) <=10 or abs(200-n) <= 10"
   ]
  },
  {
   "cell_type": "code",
   "execution_count": 99,
   "metadata": {
    "execution": {
     "iopub.execute_input": "2021-01-05T17:36:19.323785Z",
     "iopub.status.busy": "2021-01-05T17:36:19.323589Z",
     "iopub.status.idle": "2021-01-05T17:36:19.327064Z",
     "shell.execute_reply": "2021-01-05T17:36:19.326554Z",
     "shell.execute_reply.started": "2021-01-05T17:36:19.323761Z"
    }
   },
   "outputs": [
    {
     "data": {
      "text/plain": [
       "True"
      ]
     },
     "execution_count": 99,
     "metadata": {},
     "output_type": "execute_result"
    }
   ],
   "source": [
    "# Check\n",
    "almost_there(104.5)"
   ]
  },
  {
   "cell_type": "code",
   "execution_count": 100,
   "metadata": {
    "execution": {
     "iopub.execute_input": "2021-01-05T17:36:20.282040Z",
     "iopub.status.busy": "2021-01-05T17:36:20.281844Z",
     "iopub.status.idle": "2021-01-05T17:36:20.285310Z",
     "shell.execute_reply": "2021-01-05T17:36:20.284818Z",
     "shell.execute_reply.started": "2021-01-05T17:36:20.282016Z"
    }
   },
   "outputs": [
    {
     "data": {
      "text/plain": [
       "False"
      ]
     },
     "execution_count": 100,
     "metadata": {},
     "output_type": "execute_result"
    }
   ],
   "source": [
    "# Check\n",
    "almost_there(150)"
   ]
  },
  {
   "cell_type": "code",
   "execution_count": 101,
   "metadata": {
    "execution": {
     "iopub.execute_input": "2021-01-05T17:36:20.643057Z",
     "iopub.status.busy": "2021-01-05T17:36:20.642845Z",
     "iopub.status.idle": "2021-01-05T17:36:20.646189Z",
     "shell.execute_reply": "2021-01-05T17:36:20.645749Z",
     "shell.execute_reply.started": "2021-01-05T17:36:20.643034Z"
    }
   },
   "outputs": [
    {
     "data": {
      "text/plain": [
       "True"
      ]
     },
     "execution_count": 101,
     "metadata": {},
     "output_type": "execute_result"
    }
   ],
   "source": [
    "# Check\n",
    "almost_there(210)"
   ]
  },
  {
   "cell_type": "markdown",
   "metadata": {},
   "source": [
    "# LEVEL 2 PROBLEMS"
   ]
  },
  {
   "cell_type": "markdown",
   "metadata": {},
   "source": [
    "#### FIND 33: \n",
    "\n",
    "Given a list of ints, return True if the array contains a 3 next to a 3 somewhere.\n",
    "\n",
    "    has_33([1, 3, 3]) → True\n",
    "    has_33([1, 3, 1, 3]) → False\n",
    "    has_33([3, 1, 3]) → False"
   ]
  },
  {
   "cell_type": "code",
   "execution_count": 167,
   "metadata": {
    "execution": {
     "iopub.execute_input": "2021-01-05T17:55:54.987706Z",
     "iopub.status.busy": "2021-01-05T17:55:54.987490Z",
     "iopub.status.idle": "2021-01-05T17:55:54.991528Z",
     "shell.execute_reply": "2021-01-05T17:55:54.990631Z",
     "shell.execute_reply.started": "2021-01-05T17:55:54.987682Z"
    }
   },
   "outputs": [],
   "source": [
    "def has_33(nums):\n",
    "    for num in range(len(nums)-1):\n",
    "        if nums[num] != 3:\n",
    "            pass\n",
    "        else:\n",
    "            return nums[num] == 3 and nums[num+1] == 3"
   ]
  },
  {
   "cell_type": "code",
   "execution_count": 171,
   "metadata": {
    "execution": {
     "iopub.execute_input": "2021-01-05T17:59:23.841398Z",
     "iopub.status.busy": "2021-01-05T17:59:23.841160Z",
     "iopub.status.idle": "2021-01-05T17:59:23.844768Z",
     "shell.execute_reply": "2021-01-05T17:59:23.844251Z",
     "shell.execute_reply.started": "2021-01-05T17:59:23.841369Z"
    }
   },
   "outputs": [],
   "source": [
    "# with slices\n",
    "def has_33(nums):\n",
    "    for i in range(len(nums)-1):\n",
    "        if nums[i:i+2] == [3,3]:\n",
    "            return True\n",
    "    return False"
   ]
  },
  {
   "cell_type": "code",
   "execution_count": 172,
   "metadata": {
    "execution": {
     "iopub.execute_input": "2021-01-05T17:59:24.624393Z",
     "iopub.status.busy": "2021-01-05T17:59:24.624156Z",
     "iopub.status.idle": "2021-01-05T17:59:24.627871Z",
     "shell.execute_reply": "2021-01-05T17:59:24.627469Z",
     "shell.execute_reply.started": "2021-01-05T17:59:24.624365Z"
    }
   },
   "outputs": [
    {
     "data": {
      "text/plain": [
       "True"
      ]
     },
     "execution_count": 172,
     "metadata": {},
     "output_type": "execute_result"
    }
   ],
   "source": [
    "# Check\n",
    "has_33([1, 3, 3])"
   ]
  },
  {
   "cell_type": "code",
   "execution_count": 173,
   "metadata": {
    "execution": {
     "iopub.execute_input": "2021-01-05T17:59:25.056533Z",
     "iopub.status.busy": "2021-01-05T17:59:25.056292Z",
     "iopub.status.idle": "2021-01-05T17:59:25.060193Z",
     "shell.execute_reply": "2021-01-05T17:59:25.059679Z",
     "shell.execute_reply.started": "2021-01-05T17:59:25.056504Z"
    }
   },
   "outputs": [
    {
     "data": {
      "text/plain": [
       "False"
      ]
     },
     "execution_count": 173,
     "metadata": {},
     "output_type": "execute_result"
    }
   ],
   "source": [
    "# Check\n",
    "has_33([1, 3, 1, 3])"
   ]
  },
  {
   "cell_type": "code",
   "execution_count": 170,
   "metadata": {
    "execution": {
     "iopub.execute_input": "2021-01-05T17:55:57.940833Z",
     "iopub.status.busy": "2021-01-05T17:55:57.940616Z",
     "iopub.status.idle": "2021-01-05T17:55:57.944293Z",
     "shell.execute_reply": "2021-01-05T17:55:57.943790Z",
     "shell.execute_reply.started": "2021-01-05T17:55:57.940809Z"
    }
   },
   "outputs": [
    {
     "data": {
      "text/plain": [
       "False"
      ]
     },
     "execution_count": 170,
     "metadata": {},
     "output_type": "execute_result"
    }
   ],
   "source": [
    "# Check\n",
    "has_33([3, 1, 3])"
   ]
  },
  {
   "cell_type": "markdown",
   "metadata": {},
   "source": [
    "#### PAPER DOLL: Given a string, return a string where for every character in the original there are three characters\n",
    "    paper_doll('Hello') --> 'HHHeeellllllooo'\n",
    "    paper_doll('Mississippi') --> 'MMMiiissssssiiippppppiii'"
   ]
  },
  {
   "cell_type": "code",
   "execution_count": 195,
   "metadata": {
    "execution": {
     "iopub.execute_input": "2021-01-05T18:06:43.345071Z",
     "iopub.status.busy": "2021-01-05T18:06:43.344845Z",
     "iopub.status.idle": "2021-01-05T18:06:43.348335Z",
     "shell.execute_reply": "2021-01-05T18:06:43.347835Z",
     "shell.execute_reply.started": "2021-01-05T18:06:43.345045Z"
    }
   },
   "outputs": [],
   "source": [
    "def paper_doll(text):\n",
    "    new_text = []\n",
    "    for char in range(len(text)):\n",
    "        new_text.append(text[char]*3)\n",
    "    print(''.join(new_text))"
   ]
  },
  {
   "cell_type": "code",
   "execution_count": 206,
   "metadata": {
    "execution": {
     "iopub.execute_input": "2021-01-05T18:08:58.019021Z",
     "iopub.status.busy": "2021-01-05T18:08:58.018777Z",
     "iopub.status.idle": "2021-01-05T18:08:58.022071Z",
     "shell.execute_reply": "2021-01-05T18:08:58.021547Z",
     "shell.execute_reply.started": "2021-01-05T18:08:58.018996Z"
    }
   },
   "outputs": [],
   "source": [
    "def paper_doll(text):\n",
    "    result = ''\n",
    "    for char in text:\n",
    "        result += char*3\n",
    "    return result"
   ]
  },
  {
   "cell_type": "code",
   "execution_count": 207,
   "metadata": {
    "execution": {
     "iopub.execute_input": "2021-01-05T18:08:58.284278Z",
     "iopub.status.busy": "2021-01-05T18:08:58.284031Z",
     "iopub.status.idle": "2021-01-05T18:08:58.288086Z",
     "shell.execute_reply": "2021-01-05T18:08:58.287501Z",
     "shell.execute_reply.started": "2021-01-05T18:08:58.284251Z"
    }
   },
   "outputs": [
    {
     "data": {
      "text/plain": [
       "'HHHeeellllllooo'"
      ]
     },
     "execution_count": 207,
     "metadata": {},
     "output_type": "execute_result"
    }
   ],
   "source": [
    "# Check\n",
    "paper_doll('Hello')"
   ]
  },
  {
   "cell_type": "code",
   "execution_count": 208,
   "metadata": {
    "execution": {
     "iopub.execute_input": "2021-01-05T18:09:02.174446Z",
     "iopub.status.busy": "2021-01-05T18:09:02.174213Z",
     "iopub.status.idle": "2021-01-05T18:09:02.177935Z",
     "shell.execute_reply": "2021-01-05T18:09:02.177429Z",
     "shell.execute_reply.started": "2021-01-05T18:09:02.174416Z"
    }
   },
   "outputs": [
    {
     "data": {
      "text/plain": [
       "'MMMiiissssssiiissssssiiippppppiii'"
      ]
     },
     "execution_count": 208,
     "metadata": {},
     "output_type": "execute_result"
    }
   ],
   "source": [
    "# Check\n",
    "paper_doll('Mississippi')"
   ]
  },
  {
   "cell_type": "markdown",
   "metadata": {},
   "source": [
    "#### BLACKJACK: Given three integers between 1 and 11, if their sum is less than or equal to 21, return their sum. If their sum exceeds 21 *and* there's an eleven, reduce the total sum by 10. Finally, if the sum (even after adjustment) exceeds 21, return 'BUST'\n",
    "    blackjack(5,6,7) --> 18\n",
    "    blackjack(9,9,9) --> 'BUST'\n",
    "    blackjack(9,9,11) --> 19"
   ]
  },
  {
   "cell_type": "code",
   "execution_count": 211,
   "metadata": {
    "execution": {
     "iopub.execute_input": "2021-01-05T18:14:10.014285Z",
     "iopub.status.busy": "2021-01-05T18:14:10.014048Z",
     "iopub.status.idle": "2021-01-05T18:14:10.018263Z",
     "shell.execute_reply": "2021-01-05T18:14:10.017740Z",
     "shell.execute_reply.started": "2021-01-05T18:14:10.014253Z"
    }
   },
   "outputs": [],
   "source": [
    "def blackjack(a,b,c):\n",
    "    if 11 in (a,b,c) and sum([a,b,c]) <= 31:\n",
    "        return sum([a,b,c]) - 10\n",
    "    elif sum([a,b,c]) <= 21:\n",
    "        return sum([a,b,c])\n",
    "    else:\n",
    "        return 'BUST'"
   ]
  },
  {
   "cell_type": "code",
   "execution_count": 212,
   "metadata": {
    "execution": {
     "iopub.execute_input": "2021-01-05T18:14:10.761639Z",
     "iopub.status.busy": "2021-01-05T18:14:10.761407Z",
     "iopub.status.idle": "2021-01-05T18:14:10.765179Z",
     "shell.execute_reply": "2021-01-05T18:14:10.764671Z",
     "shell.execute_reply.started": "2021-01-05T18:14:10.761611Z"
    }
   },
   "outputs": [
    {
     "data": {
      "text/plain": [
       "18"
      ]
     },
     "execution_count": 212,
     "metadata": {},
     "output_type": "execute_result"
    }
   ],
   "source": [
    "# Check\n",
    "blackjack(5,6,7)"
   ]
  },
  {
   "cell_type": "code",
   "execution_count": 213,
   "metadata": {
    "execution": {
     "iopub.execute_input": "2021-01-05T18:14:12.258729Z",
     "iopub.status.busy": "2021-01-05T18:14:12.258488Z",
     "iopub.status.idle": "2021-01-05T18:14:12.262291Z",
     "shell.execute_reply": "2021-01-05T18:14:12.261782Z",
     "shell.execute_reply.started": "2021-01-05T18:14:12.258700Z"
    }
   },
   "outputs": [
    {
     "data": {
      "text/plain": [
       "'BUST'"
      ]
     },
     "execution_count": 213,
     "metadata": {},
     "output_type": "execute_result"
    }
   ],
   "source": [
    "# Check\n",
    "blackjack(9,9,9)"
   ]
  },
  {
   "cell_type": "code",
   "execution_count": 214,
   "metadata": {
    "execution": {
     "iopub.execute_input": "2021-01-05T18:14:13.457111Z",
     "iopub.status.busy": "2021-01-05T18:14:13.456879Z",
     "iopub.status.idle": "2021-01-05T18:14:13.460662Z",
     "shell.execute_reply": "2021-01-05T18:14:13.460154Z",
     "shell.execute_reply.started": "2021-01-05T18:14:13.457083Z"
    }
   },
   "outputs": [
    {
     "data": {
      "text/plain": [
       "19"
      ]
     },
     "execution_count": 214,
     "metadata": {},
     "output_type": "execute_result"
    }
   ],
   "source": [
    "# Check\n",
    "blackjack(9,9,11)"
   ]
  },
  {
   "cell_type": "markdown",
   "metadata": {},
   "source": [
    "#### SUMMER OF '69: Return the sum of the numbers in the array, except ignore sections of numbers starting with a 6 and extending to the next 9 (every 6 will be followed by at least one 9). Return 0 for no numbers.\n",
    " \n",
    "    summer_69([1, 3, 5]) --> 9\n",
    "    summer_69([4, 5, 6, 7, 8, 9]) --> 9\n",
    "    summer_69([2, 1, 6, 9, 11]) --> 14"
   ]
  },
  {
   "cell_type": "code",
   "execution_count": 16,
   "metadata": {
    "execution": {
     "iopub.execute_input": "2021-01-05T19:37:39.255937Z",
     "iopub.status.busy": "2021-01-05T19:37:39.255713Z",
     "iopub.status.idle": "2021-01-05T19:37:39.259728Z",
     "shell.execute_reply": "2021-01-05T19:37:39.259271Z",
     "shell.execute_reply.started": "2021-01-05T19:37:39.255911Z"
    }
   },
   "outputs": [],
   "source": [
    "# mine is more efficient?\n",
    "def summer_69(arr):\n",
    "    total = 0\n",
    "    add = True\n",
    "    if 6 not in arr:\n",
    "        return sum(arr)\n",
    "    for num in arr:\n",
    "        if num == 6:\n",
    "            add = False\n",
    "        elif add == False and num == 9:\n",
    "            add = True\n",
    "        elif add == True:\n",
    "            total += num\n",
    "    return total"
   ]
  },
  {
   "cell_type": "code",
   "execution_count": 8,
   "metadata": {
    "execution": {
     "iopub.execute_input": "2021-01-05T19:37:05.391477Z",
     "iopub.status.busy": "2021-01-05T19:37:05.391254Z",
     "iopub.status.idle": "2021-01-05T19:37:05.395534Z",
     "shell.execute_reply": "2021-01-05T19:37:05.394994Z",
     "shell.execute_reply.started": "2021-01-05T19:37:05.391452Z"
    }
   },
   "outputs": [],
   "source": [
    "# perian solution\n",
    "def summer_69(arr):\n",
    "    total = 0\n",
    "    add = True\n",
    "    for num in arr:\n",
    "        while add:\n",
    "            if num != 6:\n",
    "                total += num\n",
    "                break\n",
    "            else:\n",
    "                add = False\n",
    "                \n",
    "        while not add:\n",
    "            if num != 9:\n",
    "                break\n",
    "            else:\n",
    "                add = True\n",
    "                break\n",
    "    return total\n",
    "            "
   ]
  },
  {
   "cell_type": "code",
   "execution_count": 13,
   "metadata": {
    "execution": {
     "iopub.execute_input": "2021-01-05T19:37:17.728582Z",
     "iopub.status.busy": "2021-01-05T19:37:17.728355Z",
     "iopub.status.idle": "2021-01-05T19:37:17.731989Z",
     "shell.execute_reply": "2021-01-05T19:37:17.731556Z",
     "shell.execute_reply.started": "2021-01-05T19:37:17.728557Z"
    }
   },
   "outputs": [
    {
     "data": {
      "text/plain": [
       "9"
      ]
     },
     "execution_count": 13,
     "metadata": {},
     "output_type": "execute_result"
    }
   ],
   "source": [
    "# Check\n",
    "summer_69([1, 3, 5])"
   ]
  },
  {
   "cell_type": "code",
   "execution_count": 14,
   "metadata": {
    "execution": {
     "iopub.execute_input": "2021-01-05T19:37:18.463233Z",
     "iopub.status.busy": "2021-01-05T19:37:18.463015Z",
     "iopub.status.idle": "2021-01-05T19:37:18.466810Z",
     "shell.execute_reply": "2021-01-05T19:37:18.466384Z",
     "shell.execute_reply.started": "2021-01-05T19:37:18.463208Z"
    }
   },
   "outputs": [
    {
     "data": {
      "text/plain": [
       "9"
      ]
     },
     "execution_count": 14,
     "metadata": {},
     "output_type": "execute_result"
    }
   ],
   "source": [
    "# Check\n",
    "summer_69([4, 5, 6, 7, 8, 9])"
   ]
  },
  {
   "cell_type": "code",
   "execution_count": 15,
   "metadata": {
    "execution": {
     "iopub.execute_input": "2021-01-05T19:37:19.069086Z",
     "iopub.status.busy": "2021-01-05T19:37:19.068810Z",
     "iopub.status.idle": "2021-01-05T19:37:19.072425Z",
     "shell.execute_reply": "2021-01-05T19:37:19.071990Z",
     "shell.execute_reply.started": "2021-01-05T19:37:19.069061Z"
    }
   },
   "outputs": [
    {
     "data": {
      "text/plain": [
       "14"
      ]
     },
     "execution_count": 15,
     "metadata": {},
     "output_type": "execute_result"
    }
   ],
   "source": [
    "# Check\n",
    "summer_69([2, 1, 6, 9, 11])"
   ]
  },
  {
   "cell_type": "markdown",
   "metadata": {},
   "source": [
    "# CHALLENGING PROBLEMS"
   ]
  },
  {
   "cell_type": "markdown",
   "metadata": {},
   "source": [
    "#### SPY GAME: Write a function that takes in a list of integers and returns True if it contains 007 in order\n",
    "\n",
    "     spy_game([1,2,4,0,0,7,5]) --> True\n",
    "     spy_game([1,0,2,4,0,5,7]) --> True\n",
    "     spy_game([1,7,2,0,4,5,0]) --> False\n"
   ]
  },
  {
   "cell_type": "code",
   "execution_count": 39,
   "metadata": {
    "execution": {
     "iopub.execute_input": "2021-01-05T19:50:35.268406Z",
     "iopub.status.busy": "2021-01-05T19:50:35.268166Z",
     "iopub.status.idle": "2021-01-05T19:50:35.271766Z",
     "shell.execute_reply": "2021-01-05T19:50:35.271313Z",
     "shell.execute_reply.started": "2021-01-05T19:50:35.268380Z"
    }
   },
   "outputs": [],
   "source": [
    "def spy_game(nums):\n",
    "    check_list = [0,0,7,'x']\n",
    "    for num in nums:\n",
    "        if num == check_list[0]:\n",
    "            check_list.pop(0)\n",
    "        else:\n",
    "            pass\n",
    "    return len(check_list) == 1\n",
    "        "
   ]
  },
  {
   "cell_type": "code",
   "execution_count": 40,
   "metadata": {
    "execution": {
     "iopub.execute_input": "2021-01-05T19:50:35.450095Z",
     "iopub.status.busy": "2021-01-05T19:50:35.449877Z",
     "iopub.status.idle": "2021-01-05T19:50:35.453567Z",
     "shell.execute_reply": "2021-01-05T19:50:35.453127Z",
     "shell.execute_reply.started": "2021-01-05T19:50:35.450070Z"
    }
   },
   "outputs": [
    {
     "data": {
      "text/plain": [
       "True"
      ]
     },
     "execution_count": 40,
     "metadata": {},
     "output_type": "execute_result"
    }
   ],
   "source": [
    "# Check\n",
    "spy_game([1,2,4,0,0,7,5])"
   ]
  },
  {
   "cell_type": "code",
   "execution_count": 43,
   "metadata": {
    "execution": {
     "iopub.execute_input": "2021-01-05T19:50:39.921611Z",
     "iopub.status.busy": "2021-01-05T19:50:39.921381Z",
     "iopub.status.idle": "2021-01-05T19:50:39.924911Z",
     "shell.execute_reply": "2021-01-05T19:50:39.924573Z",
     "shell.execute_reply.started": "2021-01-05T19:50:39.921585Z"
    }
   },
   "outputs": [
    {
     "data": {
      "text/plain": [
       "True"
      ]
     },
     "execution_count": 43,
     "metadata": {},
     "output_type": "execute_result"
    }
   ],
   "source": [
    "# Check\n",
    "spy_game([1,0,2,4,0,5,7])"
   ]
  },
  {
   "cell_type": "code",
   "execution_count": 42,
   "metadata": {
    "execution": {
     "iopub.execute_input": "2021-01-05T19:50:37.831753Z",
     "iopub.status.busy": "2021-01-05T19:50:37.831538Z",
     "iopub.status.idle": "2021-01-05T19:50:37.835253Z",
     "shell.execute_reply": "2021-01-05T19:50:37.834790Z",
     "shell.execute_reply.started": "2021-01-05T19:50:37.831728Z"
    }
   },
   "outputs": [
    {
     "data": {
      "text/plain": [
       "False"
      ]
     },
     "execution_count": 42,
     "metadata": {},
     "output_type": "execute_result"
    }
   ],
   "source": [
    "# Check\n",
    "spy_game([1,7,2,0,4,5,0])"
   ]
  },
  {
   "cell_type": "markdown",
   "metadata": {},
   "source": [
    "#### COUNT PRIMES: Write a function that returns the *number* of prime numbers that exist up to and including a given number\n",
    "    count_primes(100) --> 25\n",
    "\n",
    "By convention, 0 and 1 are not prime."
   ]
  },
  {
   "cell_type": "code",
   "execution_count": 104,
   "metadata": {
    "execution": {
     "iopub.execute_input": "2021-01-05T20:47:51.455689Z",
     "iopub.status.busy": "2021-01-05T20:47:51.455474Z",
     "iopub.status.idle": "2021-01-05T20:47:51.459578Z",
     "shell.execute_reply": "2021-01-05T20:47:51.459064Z",
     "shell.execute_reply.started": "2021-01-05T20:47:51.455663Z"
    }
   },
   "outputs": [],
   "source": [
    "def count_primes(num):\n",
    "    if num < 2:\n",
    "        return 0\n",
    "    \n",
    "    primes = [2]\n",
    "    x = 3\n",
    "    \n",
    "    while x <= num:\n",
    "        for y in primes:\n",
    "            if x % y == 0:\n",
    "                x += 2\n",
    "                break\n",
    "        else:\n",
    "            primes.append(x)\n",
    "            x += 2\n",
    "    print(primes)\n",
    "    return len(primes)"
   ]
  },
  {
   "cell_type": "code",
   "execution_count": 105,
   "metadata": {
    "execution": {
     "iopub.execute_input": "2021-01-05T20:47:52.165577Z",
     "iopub.status.busy": "2021-01-05T20:47:52.165384Z",
     "iopub.status.idle": "2021-01-05T20:47:52.169185Z",
     "shell.execute_reply": "2021-01-05T20:47:52.168738Z",
     "shell.execute_reply.started": "2021-01-05T20:47:52.165552Z"
    }
   },
   "outputs": [
    {
     "name": "stdout",
     "output_type": "stream",
     "text": [
      "[2, 3, 5, 7, 11, 13, 17, 19, 23, 29, 31, 37, 41, 43, 47, 53, 59, 61, 67, 71, 73, 79, 83, 89, 97]\n"
     ]
    },
    {
     "data": {
      "text/plain": [
       "25"
      ]
     },
     "execution_count": 105,
     "metadata": {},
     "output_type": "execute_result"
    }
   ],
   "source": [
    "# Check\n",
    "count_primes(100)"
   ]
  },
  {
   "cell_type": "markdown",
   "metadata": {},
   "source": [
    "### Just for fun:\n",
    "#### PRINT BIG: Write a function that takes in a single letter, and returns a 5x5 representation of that letter\n",
    "    print_big('a')\n",
    "    \n",
    "    out:   *  \n",
    "          * *\n",
    "         *****\n",
    "         *   *\n",
    "         *   *\n",
    "HINT: Consider making a dictionary of possible patterns, and mapping the alphabet to specific 5-line combinations of patterns. <br>For purposes of this exercise, it's ok if your dictionary stops at \"E\"."
   ]
  },
  {
   "cell_type": "code",
   "execution_count": 147,
   "metadata": {
    "execution": {
     "iopub.execute_input": "2021-01-06T03:23:53.396966Z",
     "iopub.status.busy": "2021-01-06T03:23:53.396750Z",
     "iopub.status.idle": "2021-01-06T03:23:53.403465Z",
     "shell.execute_reply": "2021-01-06T03:23:53.403000Z",
     "shell.execute_reply.started": "2021-01-06T03:23:53.396941Z"
    }
   },
   "outputs": [],
   "source": [
    "def print_big(letter):\n",
    "    patterns = {1:'*    ',2:' *   ',3:'  *  ',4:'   * ', 5:'    *',\n",
    "                6:'**   ',7:' **  ',8:'  ** ',9:'   **',10:'* *  ',\n",
    "                11:' * * ',12:'  * *',13:'*  * ',14:' *  *',15:'*   *',\n",
    "                16:'***  ',17:' *** ',18:'  ***',19:'** * ',20:'**  *',\n",
    "                21:'* * *', 22:'*  **',23:' * **',24:'**** ',25:' ****',\n",
    "                26:'* ***',27:'** **',28:'*** *',29:'*****'\n",
    "               }\n",
    "    alphabet = {'a':[3,11,29,15,15],\n",
    "                'b':[29,15,24,15,29],\n",
    "                'c':[29,1,1,1,29],\n",
    "                'd':[29,15,15,15,29],\n",
    "                'e':[29,1,29,1,29],\n",
    "                'f':[29,1,17,1,1],\n",
    "                'g':[29,1,22,15,29],\n",
    "                'h':[15,15,29,15,15],\n",
    "                'i':[17,3,3,3,17],\n",
    "                'j':[17,3,3,3,16],\n",
    "                'k':[15,10,1,10,15]}\n",
    "    for pattern in alphabet[letter.lower()]:\n",
    "        print(patterns[pattern])\n",
    "        "
   ]
  },
  {
   "cell_type": "code",
   "execution_count": 159,
   "metadata": {
    "execution": {
     "iopub.execute_input": "2021-01-06T03:24:55.612683Z",
     "iopub.status.busy": "2021-01-06T03:24:55.612474Z",
     "iopub.status.idle": "2021-01-06T03:24:55.615700Z",
     "shell.execute_reply": "2021-01-06T03:24:55.615266Z",
     "shell.execute_reply.started": "2021-01-06T03:24:55.612659Z"
    }
   },
   "outputs": [
    {
     "name": "stdout",
     "output_type": "stream",
     "text": [
      "*   *\n",
      "* *  \n",
      "*    \n",
      "* *  \n",
      "*   *\n"
     ]
    }
   ],
   "source": [
    "print_big('k')\n",
    "\n",
    "\n"
   ]
  },
  {
   "cell_type": "code",
   "execution_count": 113,
   "metadata": {
    "execution": {
     "iopub.execute_input": "2021-01-05T20:56:44.215675Z",
     "iopub.status.busy": "2021-01-05T20:56:44.215458Z",
     "iopub.status.idle": "2021-01-05T20:56:44.218636Z",
     "shell.execute_reply": "2021-01-05T20:56:44.218128Z",
     "shell.execute_reply.started": "2021-01-05T20:56:44.215650Z"
    }
   },
   "outputs": [
    {
     "name": "stdout",
     "output_type": "stream",
     "text": [
      "  *  \n",
      " * * \n",
      "*****\n",
      "*   *\n",
      "*   *\n"
     ]
    }
   ],
   "source": [
    "print('  *  \\n * * \\n*****\\n*   *\\n*   *')"
   ]
  },
  {
   "cell_type": "code",
   "execution_count": null,
   "metadata": {},
   "outputs": [],
   "source": []
  },
  {
   "cell_type": "markdown",
   "metadata": {},
   "source": [
    "## Great Job!"
   ]
  }
 ],
 "metadata": {
  "kernelspec": {
   "display_name": "Python 3",
   "language": "python",
   "name": "python3"
  },
  "language_info": {
   "codemirror_mode": {
    "name": "ipython",
    "version": 3
   },
   "file_extension": ".py",
   "mimetype": "text/x-python",
   "name": "python",
   "nbconvert_exporter": "python",
   "pygments_lexer": "ipython3",
   "version": "3.8.3"
  }
 },
 "nbformat": 4,
 "nbformat_minor": 4
}
