{
 "cells": [
  {
   "cell_type": "markdown",
   "metadata": {},
   "source": [
    "___\n",
    "\n",
    "<a href='https://www.udemy.com/user/joseportilla/'><img src='../Pierian_Data_Logo.png'/></a>\n",
    "___\n",
    "<center><em>Content Copyright by Pierian Data</em></center>"
   ]
  },
  {
   "cell_type": "markdown",
   "metadata": {},
   "source": [
    "# Functions and Methods Homework \n",
    "\n",
    "Complete the following questions:\n",
    "____\n",
    "**Write a function that computes the volume of a sphere given its radius.**\n",
    "<p>The volume of a sphere is given as $$\\frac{4}{3} πr^3$$</p>"
   ]
  },
  {
   "cell_type": "code",
   "execution_count": 10,
   "metadata": {
    "execution": {
     "iopub.execute_input": "2021-01-04T22:28:06.580847Z",
     "iopub.status.busy": "2021-01-04T22:28:06.580607Z",
     "iopub.status.idle": "2021-01-04T22:28:06.583712Z",
     "shell.execute_reply": "2021-01-04T22:28:06.583221Z",
     "shell.execute_reply.started": "2021-01-04T22:28:06.580816Z"
    }
   },
   "outputs": [],
   "source": [
    "import math\n",
    "def vol(rad):\n",
    "    return 4/3*math.pi*(rad**3)"
   ]
  },
  {
   "cell_type": "code",
   "execution_count": 11,
   "metadata": {
    "execution": {
     "iopub.execute_input": "2021-01-04T22:28:06.911451Z",
     "iopub.status.busy": "2021-01-04T22:28:06.911237Z",
     "iopub.status.idle": "2021-01-04T22:28:06.914600Z",
     "shell.execute_reply": "2021-01-04T22:28:06.914120Z",
     "shell.execute_reply.started": "2021-01-04T22:28:06.911427Z"
    }
   },
   "outputs": [
    {
     "data": {
      "text/plain": [
       "33.510321638291124"
      ]
     },
     "execution_count": 11,
     "metadata": {},
     "output_type": "execute_result"
    }
   ],
   "source": [
    "# Check\n",
    "vol(2)"
   ]
  },
  {
   "cell_type": "markdown",
   "metadata": {},
   "source": [
    "___\n",
    "**Write a function that checks whether a number is in a given range (inclusive of high and low)**"
   ]
  },
  {
   "cell_type": "code",
   "execution_count": 12,
   "metadata": {
    "execution": {
     "iopub.execute_input": "2021-01-04T22:34:44.020003Z",
     "iopub.status.busy": "2021-01-04T22:34:44.019828Z",
     "iopub.status.idle": "2021-01-04T22:34:44.022554Z",
     "shell.execute_reply": "2021-01-04T22:34:44.022256Z",
     "shell.execute_reply.started": "2021-01-04T22:34:44.019986Z"
    }
   },
   "outputs": [],
   "source": [
    "def ran_check(num,low,high):\n",
    "    if low < num < high:\n",
    "        print(f'{num} is between {low} and {high}')\n",
    "    elif num < low:\n",
    "        print(f'{num} is lower than {low}')\n",
    "    else:\n",
    "        print(f'{num} is higher than {high}')\n",
    "        "
   ]
  },
  {
   "cell_type": "code",
   "execution_count": null,
   "metadata": {},
   "outputs": [],
   "source": [
    "# # video answer\n",
    "# def ran_check(num,low,high):\n",
    "#     if num in range(low,high+1):\n",
    "#         print(f'{num} is in range of {low} and {high}')\n",
    "#     else:\n",
    "#         print('not in range')"
   ]
  },
  {
   "cell_type": "code",
   "execution_count": 13,
   "metadata": {
    "execution": {
     "iopub.execute_input": "2021-01-04T22:34:50.939145Z",
     "iopub.status.busy": "2021-01-04T22:34:50.938923Z",
     "iopub.status.idle": "2021-01-04T22:34:50.942155Z",
     "shell.execute_reply": "2021-01-04T22:34:50.941651Z",
     "shell.execute_reply.started": "2021-01-04T22:34:50.939121Z"
    }
   },
   "outputs": [
    {
     "name": "stdout",
     "output_type": "stream",
     "text": [
      "5 is between 2 and 7\n"
     ]
    }
   ],
   "source": [
    "# Check\n",
    "ran_check(5,2,7)"
   ]
  },
  {
   "cell_type": "markdown",
   "metadata": {},
   "source": [
    "If you only wanted to return a boolean:"
   ]
  },
  {
   "cell_type": "code",
   "execution_count": 51,
   "metadata": {
    "execution": {
     "iopub.execute_input": "2021-01-05T02:11:05.034551Z",
     "iopub.status.busy": "2021-01-05T02:11:05.034328Z",
     "iopub.status.idle": "2021-01-05T02:11:05.037246Z",
     "shell.execute_reply": "2021-01-05T02:11:05.036803Z",
     "shell.execute_reply.started": "2021-01-05T02:11:05.034526Z"
    }
   },
   "outputs": [],
   "source": [
    "def ran_bool(num,low,high):\n",
    "    return num in range(low,high)"
   ]
  },
  {
   "cell_type": "code",
   "execution_count": 52,
   "metadata": {
    "execution": {
     "iopub.execute_input": "2021-01-05T02:11:05.664693Z",
     "iopub.status.busy": "2021-01-05T02:11:05.664471Z",
     "iopub.status.idle": "2021-01-05T02:11:05.668026Z",
     "shell.execute_reply": "2021-01-05T02:11:05.667545Z",
     "shell.execute_reply.started": "2021-01-05T02:11:05.664669Z"
    }
   },
   "outputs": [
    {
     "data": {
      "text/plain": [
       "True"
      ]
     },
     "execution_count": 52,
     "metadata": {},
     "output_type": "execute_result"
    }
   ],
   "source": [
    "ran_bool(3,1,10)"
   ]
  },
  {
   "cell_type": "markdown",
   "metadata": {},
   "source": [
    "____\n",
    "**Write a Python function that accepts a string and calculates the number of upper case letters and lower case letters.**\n",
    "\n",
    "    Sample String : 'Hello Mr. Rogers, how are you this fine Tuesday?'\n",
    "    Expected Output : \n",
    "    No. of Upper case characters : 4\n",
    "    No. of Lower case Characters : 33\n",
    "\n",
    "HINT: Two string methods that might prove useful: **.isupper()** and **.islower()**\n",
    "\n",
    "If you feel ambitious, explore the Collections module to solve this problem!"
   ]
  },
  {
   "cell_type": "code",
   "execution_count": 56,
   "metadata": {
    "execution": {
     "iopub.execute_input": "2021-01-05T02:19:20.160417Z",
     "iopub.status.busy": "2021-01-05T02:19:20.160197Z",
     "iopub.status.idle": "2021-01-05T02:19:20.164031Z",
     "shell.execute_reply": "2021-01-05T02:19:20.163540Z",
     "shell.execute_reply.started": "2021-01-05T02:19:20.160392Z"
    }
   },
   "outputs": [],
   "source": [
    "def up_low(s):\n",
    "    upper = 0\n",
    "    lower = 0\n",
    "    for i in range(len(s)):\n",
    "        if s[i].isupper():\n",
    "            upper += 1\n",
    "        elif s[i].islower():\n",
    "            lower += 1\n",
    "    print(f'No. of Upper case characters: {upper}')\n",
    "    print(f'No. of Lower case characters: {lower}')"
   ]
  },
  {
   "cell_type": "code",
   "execution_count": 54,
   "metadata": {
    "execution": {
     "iopub.execute_input": "2021-01-05T02:18:19.965113Z",
     "iopub.status.busy": "2021-01-05T02:18:19.964893Z",
     "iopub.status.idle": "2021-01-05T02:18:19.969180Z",
     "shell.execute_reply": "2021-01-05T02:18:19.968550Z",
     "shell.execute_reply.started": "2021-01-05T02:18:19.965088Z"
    }
   },
   "outputs": [],
   "source": [
    "# # with dictionaries\n",
    "# def up_low(s):\n",
    "#     d = {'upper':0, 'lower':0}\n",
    "#     for char in s:\n",
    "#         if char.isupper():\n",
    "#             d['upper'] += 1\n",
    "#         elif char.islower():\n",
    "#             d['lower'] += 1\n",
    "#         else:\n",
    "#             pass\n",
    "#     print(f'upper: {d[\"upper\"]}')\n",
    "#     print(f'lower: {d[\"lower\"]}')"
   ]
  },
  {
   "cell_type": "code",
   "execution_count": 57,
   "metadata": {
    "execution": {
     "iopub.execute_input": "2021-01-05T02:19:21.352141Z",
     "iopub.status.busy": "2021-01-05T02:19:21.351933Z",
     "iopub.status.idle": "2021-01-05T02:19:21.355100Z",
     "shell.execute_reply": "2021-01-05T02:19:21.354601Z",
     "shell.execute_reply.started": "2021-01-05T02:19:21.352118Z"
    }
   },
   "outputs": [
    {
     "name": "stdout",
     "output_type": "stream",
     "text": [
      "No. of Upper case characters: 4\n",
      "No. of Lower case characters: 33\n"
     ]
    }
   ],
   "source": [
    "s = 'Hello Mr. Rogers, how are you this fine Tuesday?'\n",
    "up_low(s)"
   ]
  },
  {
   "cell_type": "markdown",
   "metadata": {},
   "source": [
    "____\n",
    "**Write a Python function that takes a list and returns a new list with unique elements of the first list.**\n",
    "\n",
    "    Sample List : [1,1,1,1,2,2,3,3,3,3,4,5]\n",
    "    Unique List : [1, 2, 3, 4, 5]"
   ]
  },
  {
   "cell_type": "code",
   "execution_count": 30,
   "metadata": {
    "execution": {
     "iopub.execute_input": "2021-01-04T22:53:29.904900Z",
     "iopub.status.busy": "2021-01-04T22:53:29.904670Z",
     "iopub.status.idle": "2021-01-04T22:53:29.907536Z",
     "shell.execute_reply": "2021-01-04T22:53:29.907021Z",
     "shell.execute_reply.started": "2021-01-04T22:53:29.904876Z"
    }
   },
   "outputs": [],
   "source": [
    "def unique_list(lst):\n",
    "    return list(set(lst))"
   ]
  },
  {
   "cell_type": "code",
   "execution_count": null,
   "metadata": {},
   "outputs": [],
   "source": [
    "# # manual way, not efficient computationally\n",
    "# def unique_list(lst):\n",
    "#     seen_numbers = []\n",
    "#     for number not in lst:\n",
    "#         seen_numbers.append(number)\n",
    "#     return seen_numbers"
   ]
  },
  {
   "cell_type": "code",
   "execution_count": 31,
   "metadata": {
    "execution": {
     "iopub.execute_input": "2021-01-04T22:53:30.214266Z",
     "iopub.status.busy": "2021-01-04T22:53:30.214062Z",
     "iopub.status.idle": "2021-01-04T22:53:30.217930Z",
     "shell.execute_reply": "2021-01-04T22:53:30.217538Z",
     "shell.execute_reply.started": "2021-01-04T22:53:30.214242Z"
    }
   },
   "outputs": [
    {
     "data": {
      "text/plain": [
       "[1, 2, 3, 4, 5]"
      ]
     },
     "execution_count": 31,
     "metadata": {},
     "output_type": "execute_result"
    }
   ],
   "source": [
    "unique_list([1,1,1,1,2,2,3,3,3,3,4,5])"
   ]
  },
  {
   "cell_type": "markdown",
   "metadata": {},
   "source": [
    "____\n",
    "**Write a Python function to multiply all the numbers in a list.**\n",
    "\n",
    "    Sample List : [1, 2, 3, -4]\n",
    "    Expected Output : -24"
   ]
  },
  {
   "cell_type": "code",
   "execution_count": 32,
   "metadata": {
    "execution": {
     "iopub.execute_input": "2021-01-04T22:57:42.025062Z",
     "iopub.status.busy": "2021-01-04T22:57:42.024840Z",
     "iopub.status.idle": "2021-01-04T22:57:42.027927Z",
     "shell.execute_reply": "2021-01-04T22:57:42.027473Z",
     "shell.execute_reply.started": "2021-01-04T22:57:42.025038Z"
    }
   },
   "outputs": [],
   "source": [
    "def multiply(numbers):  \n",
    "    result = 1\n",
    "    for i in numbers:\n",
    "        result *= numbers[i]\n",
    "    return result"
   ]
  },
  {
   "cell_type": "code",
   "execution_count": 33,
   "metadata": {
    "execution": {
     "iopub.execute_input": "2021-01-04T22:57:43.332145Z",
     "iopub.status.busy": "2021-01-04T22:57:43.331932Z",
     "iopub.status.idle": "2021-01-04T22:57:43.335584Z",
     "shell.execute_reply": "2021-01-04T22:57:43.335165Z",
     "shell.execute_reply.started": "2021-01-04T22:57:43.332122Z"
    }
   },
   "outputs": [
    {
     "data": {
      "text/plain": [
       "-24"
      ]
     },
     "execution_count": 33,
     "metadata": {},
     "output_type": "execute_result"
    }
   ],
   "source": [
    "multiply([1,2,3,-4])"
   ]
  },
  {
   "cell_type": "markdown",
   "metadata": {},
   "source": [
    "____\n",
    "**Write a Python function that checks whether a word or phrase is palindrome or not.**\n",
    "\n",
    "Note: A palindrome is word, phrase, or sequence that reads the same backward as forward, e.g., madam,kayak,racecar, or a phrase \"nurses run\". Hint: You may want to check out the .replace() method in a string to help out with dealing with spaces. Also google search how to reverse a string in Python, there are some clever ways to do it with slicing notation."
   ]
  },
  {
   "cell_type": "code",
   "execution_count": 1,
   "metadata": {
    "execution": {
     "iopub.execute_input": "2021-01-05T05:01:02.304703Z",
     "iopub.status.busy": "2021-01-05T05:01:02.304426Z",
     "iopub.status.idle": "2021-01-05T05:01:02.308405Z",
     "shell.execute_reply": "2021-01-05T05:01:02.307841Z",
     "shell.execute_reply.started": "2021-01-05T05:01:02.304636Z"
    }
   },
   "outputs": [],
   "source": [
    "def palindrome(s):\n",
    "    # must remove spaces first\n",
    "    s = s.replace(' ','')\n",
    "    return s == s[::-1]"
   ]
  },
  {
   "cell_type": "code",
   "execution_count": 2,
   "metadata": {
    "execution": {
     "iopub.execute_input": "2021-01-05T05:01:02.735690Z",
     "iopub.status.busy": "2021-01-05T05:01:02.735470Z",
     "iopub.status.idle": "2021-01-05T05:01:02.745757Z",
     "shell.execute_reply": "2021-01-05T05:01:02.745289Z",
     "shell.execute_reply.started": "2021-01-05T05:01:02.735665Z"
    }
   },
   "outputs": [
    {
     "data": {
      "text/plain": [
       "True"
      ]
     },
     "execution_count": 2,
     "metadata": {},
     "output_type": "execute_result"
    }
   ],
   "source": [
    "palindrome('helleh')"
   ]
  },
  {
   "cell_type": "markdown",
   "metadata": {},
   "source": [
    "____\n",
    "#### Hard:\n",
    "\n",
    "**Write a Python function to check whether a string is pangram or not. (Assume the string passed in does not have any punctuation)**\n",
    "\n",
    "    Note : Pangrams are words or sentences containing every letter of the alphabet at least once.\n",
    "    For example : \"The quick brown fox jumps over the lazy dog\"\n",
    "\n",
    "Hint: You may want to use .replace() method to get rid of spaces.\n",
    "\n",
    "Hint: Look at the [string module](https://stackoverflow.com/questions/16060899/alphabet-range-in-python)\n",
    "\n",
    "Hint: In case you want to use [set comparisons](https://medium.com/better-programming/a-visual-guide-to-set-comparisons-in-python-6ab7edb9ec41)"
   ]
  },
  {
   "cell_type": "code",
   "execution_count": 13,
   "metadata": {
    "execution": {
     "iopub.execute_input": "2021-01-05T05:07:28.668618Z",
     "iopub.status.busy": "2021-01-05T05:07:28.668368Z",
     "iopub.status.idle": "2021-01-05T05:07:28.672446Z",
     "shell.execute_reply": "2021-01-05T05:07:28.671823Z",
     "shell.execute_reply.started": "2021-01-05T05:07:28.668593Z"
    }
   },
   "outputs": [],
   "source": [
    "import string\n",
    "\n",
    "def ispangram(str1, alphabet=string.ascii_lowercase):\n",
    "    alphaset = set(alphabet)\n",
    "    str1 = str1.replace(' ','')\n",
    "    str1 = str1.lower()\n",
    "    str1 = set(str1)\n",
    "    return alphaset == str1\n",
    "    "
   ]
  },
  {
   "cell_type": "code",
   "execution_count": 14,
   "metadata": {
    "execution": {
     "iopub.execute_input": "2021-01-05T05:07:29.128772Z",
     "iopub.status.busy": "2021-01-05T05:07:29.128566Z",
     "iopub.status.idle": "2021-01-05T05:07:29.132278Z",
     "shell.execute_reply": "2021-01-05T05:07:29.131785Z",
     "shell.execute_reply.started": "2021-01-05T05:07:29.128749Z"
    }
   },
   "outputs": [
    {
     "data": {
      "text/plain": [
       "False"
      ]
     },
     "execution_count": 14,
     "metadata": {},
     "output_type": "execute_result"
    }
   ],
   "source": [
    "ispangram('hi there')"
   ]
  },
  {
   "cell_type": "code",
   "execution_count": 15,
   "metadata": {
    "execution": {
     "iopub.execute_input": "2021-01-05T05:07:29.577321Z",
     "iopub.status.busy": "2021-01-05T05:07:29.577135Z",
     "iopub.status.idle": "2021-01-05T05:07:29.580628Z",
     "shell.execute_reply": "2021-01-05T05:07:29.580178Z",
     "shell.execute_reply.started": "2021-01-05T05:07:29.577299Z"
    }
   },
   "outputs": [
    {
     "data": {
      "text/plain": [
       "True"
      ]
     },
     "execution_count": 15,
     "metadata": {},
     "output_type": "execute_result"
    }
   ],
   "source": [
    "ispangram(\"The quick brown fox jumps over the lazy dog\")"
   ]
  },
  {
   "cell_type": "code",
   "execution_count": null,
   "metadata": {},
   "outputs": [],
   "source": []
  },
  {
   "cell_type": "code",
   "execution_count": 11,
   "metadata": {
    "execution": {
     "iopub.execute_input": "2021-01-05T05:06:55.808706Z",
     "iopub.status.busy": "2021-01-05T05:06:55.808488Z",
     "iopub.status.idle": "2021-01-05T05:06:55.812265Z",
     "shell.execute_reply": "2021-01-05T05:06:55.811774Z",
     "shell.execute_reply.started": "2021-01-05T05:06:55.808682Z"
    }
   },
   "outputs": [
    {
     "data": {
      "text/plain": [
       "'abcdefghijklmnopqrstuvwxyz'"
      ]
     },
     "execution_count": 11,
     "metadata": {},
     "output_type": "execute_result"
    }
   ],
   "source": [
    "string.ascii_lowercase"
   ]
  },
  {
   "cell_type": "markdown",
   "metadata": {},
   "source": [
    "#### Great Job!"
   ]
  }
 ],
 "metadata": {
  "kernelspec": {
   "display_name": "Python 3",
   "language": "python",
   "name": "python3"
  },
  "language_info": {
   "codemirror_mode": {
    "name": "ipython",
    "version": 3
   },
   "file_extension": ".py",
   "mimetype": "text/x-python",
   "name": "python",
   "nbconvert_exporter": "python",
   "pygments_lexer": "ipython3",
   "version": "3.8.3"
  }
 },
 "nbformat": 4,
 "nbformat_minor": 4
}
